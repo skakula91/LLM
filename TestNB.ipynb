{
 "cells": [
  {
   "cell_type": "code",
   "execution_count": 5,
   "id": "ca6e7f98-07cf-407f-92f8-52acdc1e52a6",
   "metadata": {},
   "outputs": [],
   "source": [
    "import ipdb"
   ]
  },
  {
   "cell_type": "code",
   "execution_count": 8,
   "id": "ab801167-58fb-4e12-9376-408748b6e922",
   "metadata": {},
   "outputs": [
    {
     "name": "stdout",
     "output_type": "stream",
     "text": [
      "> \u001b[0;32m/var/folders/z_/d8pllkd12w50w38_l0qxzyn00000gr/T/ipykernel_59729/1833752327.py\u001b[0m(9)\u001b[0;36mcalculate\u001b[0;34m()\u001b[0m\n",
      "\u001b[0;32m      8 \u001b[0;31m    \u001b[0mipdb\u001b[0m\u001b[0;34m.\u001b[0m\u001b[0mset_trace\u001b[0m\u001b[0;34m(\u001b[0m\u001b[0;34m)\u001b[0m\u001b[0;34m\u001b[0m\u001b[0;34m\u001b[0m\u001b[0m\n",
      "\u001b[0m\u001b[0;32m----> 9 \u001b[0;31m    \u001b[0mcalc1\u001b[0m \u001b[0;34m=\u001b[0m \u001b[0mv1\u001b[0m\u001b[0;34m*\u001b[0m\u001b[0;36m55\u001b[0m\u001b[0;34m\u001b[0m\u001b[0;34m\u001b[0m\u001b[0m\n",
      "\u001b[0m\u001b[0;32m     10 \u001b[0;31m    \u001b[0mcalc2\u001b[0m \u001b[0;34m=\u001b[0m \u001b[0mcalc1\u001b[0m\u001b[0;34m**\u001b[0m\u001b[0mv2\u001b[0m\u001b[0;34m\u001b[0m\u001b[0;34m\u001b[0m\u001b[0m\n",
      "\u001b[0m\n"
     ]
    },
    {
     "name": "stdin",
     "output_type": "stream",
     "text": [
      "ipdb>  q\n"
     ]
    }
   ],
   "source": [
    "# L/N/C/Q debugging\n",
    "# l - line you are debugging\n",
    "# n - execute next line\n",
    "# c - continue, exec all\n",
    "# q - quit\n",
    "\n",
    "def calculate(v1, v2):\n",
    "    ipdb.set_trace()\n",
    "    calc1 = v1*55\n",
    "    calc2 = calc1**v2\n",
    "    return calc2\n",
    "\n",
    "print(calculate(2,3))"
   ]
  },
  {
   "cell_type": "code",
   "execution_count": null,
   "id": "021faf01-2672-414b-b215-04f9ecb56c39",
   "metadata": {},
   "outputs": [],
   "source": []
  }
 ],
 "metadata": {
  "kernelspec": {
   "display_name": "Python 3 (ipykernel)",
   "language": "python",
   "name": "python3"
  },
  "language_info": {
   "codemirror_mode": {
    "name": "ipython",
    "version": 3
   },
   "file_extension": ".py",
   "mimetype": "text/x-python",
   "name": "python",
   "nbconvert_exporter": "python",
   "pygments_lexer": "ipython3",
   "version": "3.11.11"
  }
 },
 "nbformat": 4,
 "nbformat_minor": 5
}
